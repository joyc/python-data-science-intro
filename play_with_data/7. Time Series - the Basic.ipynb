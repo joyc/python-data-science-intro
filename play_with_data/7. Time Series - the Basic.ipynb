{
 "cells": [
  {
   "cell_type": "code",
   "execution_count": 1,
   "metadata": {},
   "outputs": [],
   "source": [
    "import numpy as np\n",
    "import pandas as pd\n",
    "from pandas import Series, DataFrame"
   ]
  },
  {
   "cell_type": "code",
   "execution_count": 2,
   "metadata": {},
   "outputs": [],
   "source": [
    "import datetime"
   ]
  },
  {
   "cell_type": "code",
   "execution_count": 6,
   "metadata": {},
   "outputs": [
    {
     "data": {
      "text/plain": [
       "datetime.datetime(2019, 8, 24, 0, 0)"
      ]
     },
     "execution_count": 6,
     "metadata": {},
     "output_type": "execute_result"
    }
   ],
   "source": [
    "t = datetime.datetime(2019,8,24)\n",
    "t"
   ]
  },
  {
   "cell_type": "code",
   "execution_count": 7,
   "metadata": {},
   "outputs": [],
   "source": [
    "t_list = [\n",
    "    datetime.datetime(2017,10,2),\n",
    "    datetime.datetime(2018,5,21),\n",
    "    datetime.datetime(2018,8,12),\n",
    "    datetime.datetime(2018,11,18),\n",
    "    datetime.datetime(2019,8,25)\n",
    "]"
   ]
  },
  {
   "cell_type": "code",
   "execution_count": 8,
   "metadata": {},
   "outputs": [],
   "source": [
    "s1 = Series(np.random.rand(5), index=t_list)"
   ]
  },
  {
   "cell_type": "code",
   "execution_count": 9,
   "metadata": {},
   "outputs": [
    {
     "data": {
      "text/plain": [
       "2017-10-02    0.851202\n",
       "2018-05-21    0.746394\n",
       "2018-08-12    0.577322\n",
       "2018-11-18    0.430770\n",
       "2019-08-25    0.237155\n",
       "dtype: float64"
      ]
     },
     "execution_count": 9,
     "metadata": {},
     "output_type": "execute_result"
    }
   ],
   "source": [
    "s1"
   ]
  },
  {
   "cell_type": "code",
   "execution_count": 10,
   "metadata": {},
   "outputs": [
    {
     "data": {
      "text/plain": [
       "0.5773220204518922"
      ]
     },
     "execution_count": 10,
     "metadata": {},
     "output_type": "execute_result"
    }
   ],
   "source": [
    "s1['2018-08-12']"
   ]
  },
  {
   "cell_type": "code",
   "execution_count": 11,
   "metadata": {},
   "outputs": [
    {
     "data": {
      "text/plain": [
       "2018-05-21    0.746394\n",
       "2018-08-12    0.577322\n",
       "2018-11-18    0.430770\n",
       "dtype: float64"
      ]
     },
     "execution_count": 11,
     "metadata": {},
     "output_type": "execute_result"
    }
   ],
   "source": [
    "s1['2018']"
   ]
  },
  {
   "cell_type": "code",
   "execution_count": 12,
   "metadata": {},
   "outputs": [
    {
     "data": {
      "text/plain": [
       "2018-11-18    0.43077\n",
       "dtype: float64"
      ]
     },
     "execution_count": 12,
     "metadata": {},
     "output_type": "execute_result"
    }
   ],
   "source": [
    "s1['2018-11']"
   ]
  },
  {
   "cell_type": "code",
   "execution_count": 13,
   "metadata": {},
   "outputs": [
    {
     "data": {
      "text/plain": [
       "0.8512017679970035"
      ]
     },
     "execution_count": 13,
     "metadata": {},
     "output_type": "execute_result"
    }
   ],
   "source": [
    "s1[0]"
   ]
  },
  {
   "cell_type": "code",
   "execution_count": 14,
   "metadata": {},
   "outputs": [
    {
     "data": {
      "text/plain": [
       "0.8512017679970035"
      ]
     },
     "execution_count": 14,
     "metadata": {},
     "output_type": "execute_result"
    }
   ],
   "source": [
    "s1[datetime.datetime(2017,10,2)]"
   ]
  },
  {
   "cell_type": "code",
   "execution_count": 19,
   "metadata": {},
   "outputs": [],
   "source": [
    "t = pd.date_range(start='2018-01-01', end='2018-2-1', freq='W')"
   ]
  },
  {
   "cell_type": "code",
   "execution_count": 20,
   "metadata": {},
   "outputs": [
    {
     "data": {
      "text/plain": [
       "DatetimeIndex(['2018-01-07', '2018-01-14', '2018-01-21', '2018-01-28'], dtype='datetime64[ns]', freq='W-SUN')"
      ]
     },
     "execution_count": 20,
     "metadata": {},
     "output_type": "execute_result"
    }
   ],
   "source": [
    "t"
   ]
  },
  {
   "cell_type": "code",
   "execution_count": 23,
   "metadata": {},
   "outputs": [
    {
     "data": {
      "text/plain": [
       "DatetimeIndex(['2018-01-07', '2018-01-14', '2018-01-21', '2018-01-28',\n",
       "               '2018-02-04', '2018-02-11', '2018-02-18', '2018-02-25',\n",
       "               '2018-03-04', '2018-03-11'],\n",
       "              dtype='datetime64[ns]', freq='W-SUN')"
      ]
     },
     "execution_count": 23,
     "metadata": {},
     "output_type": "execute_result"
    }
   ],
   "source": [
    "t = pd.date_range(start='2018-01-01', periods=10, freq='W')\n",
    "t"
   ]
  },
  {
   "cell_type": "code",
   "execution_count": 34,
   "metadata": {},
   "outputs": [],
   "source": [
    "s2 = Series(np.random.rand(100), index=pd.date_range(start='20180701', periods=100))"
   ]
  },
  {
   "cell_type": "code",
   "execution_count": 35,
   "metadata": {},
   "outputs": [
    {
     "data": {
      "text/plain": [
       "2018-07-01    0.686142\n",
       "2018-07-02    0.790534\n",
       "2018-07-03    0.554236\n",
       "2018-07-04    0.879919\n",
       "2018-07-05    0.959715\n",
       "2018-07-06    0.693453\n",
       "2018-07-07    0.007043\n",
       "2018-07-08    0.034938\n",
       "2018-07-09    0.930398\n",
       "2018-07-10    0.027731\n",
       "2018-07-11    0.278249\n",
       "2018-07-12    0.625655\n",
       "2018-07-13    0.715342\n",
       "2018-07-14    0.534269\n",
       "2018-07-15    0.326935\n",
       "2018-07-16    0.781283\n",
       "2018-07-17    0.441622\n",
       "2018-07-18    0.710812\n",
       "2018-07-19    0.981009\n",
       "2018-07-20    0.907975\n",
       "2018-07-21    0.935096\n",
       "2018-07-22    0.040738\n",
       "2018-07-23    0.451332\n",
       "2018-07-24    0.863841\n",
       "2018-07-25    0.752606\n",
       "2018-07-26    0.010087\n",
       "2018-07-27    0.029897\n",
       "2018-07-28    0.186136\n",
       "2018-07-29    0.117364\n",
       "2018-07-30    0.899894\n",
       "                ...   \n",
       "2018-09-09    0.851057\n",
       "2018-09-10    0.005406\n",
       "2018-09-11    0.577839\n",
       "2018-09-12    0.824161\n",
       "2018-09-13    0.190811\n",
       "2018-09-14    0.265729\n",
       "2018-09-15    0.573810\n",
       "2018-09-16    0.325153\n",
       "2018-09-17    0.779067\n",
       "2018-09-18    0.088973\n",
       "2018-09-19    0.240582\n",
       "2018-09-20    0.458375\n",
       "2018-09-21    0.775096\n",
       "2018-09-22    0.524119\n",
       "2018-09-23    0.287318\n",
       "2018-09-24    0.869733\n",
       "2018-09-25    0.457579\n",
       "2018-09-26    0.630920\n",
       "2018-09-27    0.036296\n",
       "2018-09-28    0.247562\n",
       "2018-09-29    0.433155\n",
       "2018-09-30    0.915305\n",
       "2018-10-01    0.859711\n",
       "2018-10-02    0.801603\n",
       "2018-10-03    0.037664\n",
       "2018-10-04    0.391025\n",
       "2018-10-05    0.916429\n",
       "2018-10-06    0.198294\n",
       "2018-10-07    0.877027\n",
       "2018-10-08    0.741333\n",
       "Freq: D, Length: 100, dtype: float64"
      ]
     },
     "execution_count": 35,
     "metadata": {},
     "output_type": "execute_result"
    }
   ],
   "source": [
    "s2"
   ]
  },
  {
   "cell_type": "code",
   "execution_count": null,
   "metadata": {},
   "outputs": [],
   "source": []
  }
 ],
 "metadata": {
  "kernelspec": {
   "display_name": "Python 3",
   "language": "python",
   "name": "python3"
  },
  "language_info": {
   "codemirror_mode": {
    "name": "ipython",
    "version": 3
   },
   "file_extension": ".py",
   "mimetype": "text/x-python",
   "name": "python",
   "nbconvert_exporter": "python",
   "pygments_lexer": "ipython3",
   "version": "3.7.3"
  }
 },
 "nbformat": 4,
 "nbformat_minor": 2
}
