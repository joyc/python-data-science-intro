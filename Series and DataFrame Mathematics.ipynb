{
 "cells": [
  {
   "cell_type": "code",
   "execution_count": 1,
   "metadata": {},
   "outputs": [],
   "source": [
    "import numpy as np\n",
    "import pandas as pd\n",
    "from pandas import Series, DataFrame"
   ]
  },
  {
   "cell_type": "markdown",
   "metadata": {},
   "source": [
    "# Series"
   ]
  },
  {
   "cell_type": "code",
   "execution_count": 2,
   "metadata": {},
   "outputs": [],
   "source": [
    "s = Series(np.random.rand(10))"
   ]
  },
  {
   "cell_type": "code",
   "execution_count": 3,
   "metadata": {},
   "outputs": [
    {
     "data": {
      "text/plain": [
       "0    0.717102\n",
       "1    0.688626\n",
       "2    0.861626\n",
       "3    0.065190\n",
       "4    0.761917\n",
       "5    0.304920\n",
       "6    0.742713\n",
       "7    0.077533\n",
       "8    0.775613\n",
       "9    0.980659\n",
       "dtype: float64"
      ]
     },
     "execution_count": 3,
     "metadata": {},
     "output_type": "execute_result"
    }
   ],
   "source": [
    "s"
   ]
  },
  {
   "cell_type": "code",
   "execution_count": 5,
   "metadata": {},
   "outputs": [
    {
     "data": {
      "text/plain": [
       "9    0.980659\n",
       "2    0.861626\n",
       "8    0.775613\n",
       "4    0.761917\n",
       "6    0.742713\n",
       "0    0.717102\n",
       "1    0.688626\n",
       "5    0.304920\n",
       "7    0.077533\n",
       "3    0.065190\n",
       "dtype: float64"
      ]
     },
     "execution_count": 5,
     "metadata": {},
     "output_type": "execute_result"
    }
   ],
   "source": [
    "s.sort_values(ascending=False)"
   ]
  },
  {
   "cell_type": "code",
   "execution_count": 6,
   "metadata": {},
   "outputs": [
    {
     "data": {
      "text/plain": [
       "9    0.980659\n",
       "8    0.775613\n",
       "7    0.077533\n",
       "6    0.742713\n",
       "5    0.304920\n",
       "4    0.761917\n",
       "3    0.065190\n",
       "2    0.861626\n",
       "1    0.688626\n",
       "0    0.717102\n",
       "dtype: float64"
      ]
     },
     "execution_count": 6,
     "metadata": {},
     "output_type": "execute_result"
    }
   ],
   "source": [
    "s.sort_index(ascending=False)"
   ]
  },
  {
   "cell_type": "code",
   "execution_count": 9,
   "metadata": {},
   "outputs": [
    {
     "data": {
      "text/plain": [
       "0.06519035377531868"
      ]
     },
     "execution_count": 9,
     "metadata": {},
     "output_type": "execute_result"
    }
   ],
   "source": [
    "s.max()"
   ]
  },
  {
   "cell_type": "code",
   "execution_count": 8,
   "metadata": {},
   "outputs": [
    {
     "data": {
      "text/plain": [
       "0.06519035377531868"
      ]
     },
     "execution_count": 8,
     "metadata": {},
     "output_type": "execute_result"
    }
   ],
   "source": [
    "s.min()"
   ]
  },
  {
   "cell_type": "code",
   "execution_count": 10,
   "metadata": {},
   "outputs": [
    {
     "data": {
      "text/plain": [
       "0.597590139231288"
      ]
     },
     "execution_count": 10,
     "metadata": {},
     "output_type": "execute_result"
    }
   ],
   "source": [
    "s.mean()"
   ]
  },
  {
   "cell_type": "code",
   "execution_count": 11,
   "metadata": {},
   "outputs": [],
   "source": [
    "s1 = Series([1,2,3])\n",
    "s2 = Series([4,5,6])"
   ]
  },
  {
   "cell_type": "code",
   "execution_count": 12,
   "metadata": {},
   "outputs": [
    {
     "data": {
      "text/plain": [
       "0    5\n",
       "1    7\n",
       "2    9\n",
       "dtype: int64"
      ]
     },
     "execution_count": 12,
     "metadata": {},
     "output_type": "execute_result"
    }
   ],
   "source": [
    "s1 + s2"
   ]
  },
  {
   "cell_type": "code",
   "execution_count": 13,
   "metadata": {},
   "outputs": [],
   "source": [
    "s1 = Series([1,2,3], index=['A','B','C'])\n",
    "s2 = Series([4,5,6], index=['A','D','E'])"
   ]
  },
  {
   "cell_type": "code",
   "execution_count": 14,
   "metadata": {},
   "outputs": [
    {
     "data": {
      "text/plain": [
       "A    5.0\n",
       "B    NaN\n",
       "C    NaN\n",
       "D    NaN\n",
       "E    NaN\n",
       "dtype: float64"
      ]
     },
     "execution_count": 14,
     "metadata": {},
     "output_type": "execute_result"
    }
   ],
   "source": [
    "s1 + s2"
   ]
  },
  {
   "cell_type": "markdown",
   "metadata": {},
   "source": [
    "# DataFrame"
   ]
  },
  {
   "cell_type": "code",
   "execution_count": 15,
   "metadata": {},
   "outputs": [
    {
     "data": {
      "text/html": [
       "<div>\n",
       "<style scoped>\n",
       "    .dataframe tbody tr th:only-of-type {\n",
       "        vertical-align: middle;\n",
       "    }\n",
       "\n",
       "    .dataframe tbody tr th {\n",
       "        vertical-align: top;\n",
       "    }\n",
       "\n",
       "    .dataframe thead th {\n",
       "        text-align: right;\n",
       "    }\n",
       "</style>\n",
       "<table border=\"1\" class=\"dataframe\">\n",
       "  <thead>\n",
       "    <tr style=\"text-align: right;\">\n",
       "      <th></th>\n",
       "      <th>0</th>\n",
       "      <th>1</th>\n",
       "      <th>2</th>\n",
       "      <th>3</th>\n",
       "      <th>4</th>\n",
       "    </tr>\n",
       "  </thead>\n",
       "  <tbody>\n",
       "    <tr>\n",
       "      <th>0</th>\n",
       "      <td>0.277793</td>\n",
       "      <td>0.504502</td>\n",
       "      <td>0.476466</td>\n",
       "      <td>0.097938</td>\n",
       "      <td>0.345402</td>\n",
       "    </tr>\n",
       "    <tr>\n",
       "      <th>1</th>\n",
       "      <td>0.254092</td>\n",
       "      <td>0.793814</td>\n",
       "      <td>0.013134</td>\n",
       "      <td>0.280139</td>\n",
       "      <td>0.133119</td>\n",
       "    </tr>\n",
       "    <tr>\n",
       "      <th>2</th>\n",
       "      <td>0.550324</td>\n",
       "      <td>0.871230</td>\n",
       "      <td>0.410856</td>\n",
       "      <td>0.486428</td>\n",
       "      <td>0.448979</td>\n",
       "    </tr>\n",
       "    <tr>\n",
       "      <th>3</th>\n",
       "      <td>0.015123</td>\n",
       "      <td>0.988333</td>\n",
       "      <td>0.792580</td>\n",
       "      <td>0.071037</td>\n",
       "      <td>0.398478</td>\n",
       "    </tr>\n",
       "  </tbody>\n",
       "</table>\n",
       "</div>"
      ],
      "text/plain": [
       "          0         1         2         3         4\n",
       "0  0.277793  0.504502  0.476466  0.097938  0.345402\n",
       "1  0.254092  0.793814  0.013134  0.280139  0.133119\n",
       "2  0.550324  0.871230  0.410856  0.486428  0.448979\n",
       "3  0.015123  0.988333  0.792580  0.071037  0.398478"
      ]
     },
     "execution_count": 15,
     "metadata": {},
     "output_type": "execute_result"
    }
   ],
   "source": [
    "df = DataFrame(np.random.rand(20).reshape(4,5))\n",
    "df"
   ]
  },
  {
   "cell_type": "code",
   "execution_count": 16,
   "metadata": {},
   "outputs": [
    {
     "data": {
      "text/html": [
       "<div>\n",
       "<style scoped>\n",
       "    .dataframe tbody tr th:only-of-type {\n",
       "        vertical-align: middle;\n",
       "    }\n",
       "\n",
       "    .dataframe tbody tr th {\n",
       "        vertical-align: top;\n",
       "    }\n",
       "\n",
       "    .dataframe thead th {\n",
       "        text-align: right;\n",
       "    }\n",
       "</style>\n",
       "<table border=\"1\" class=\"dataframe\">\n",
       "  <thead>\n",
       "    <tr style=\"text-align: right;\">\n",
       "      <th></th>\n",
       "      <th>0</th>\n",
       "      <th>1</th>\n",
       "      <th>2</th>\n",
       "      <th>3</th>\n",
       "      <th>4</th>\n",
       "    </tr>\n",
       "  </thead>\n",
       "  <tbody>\n",
       "    <tr>\n",
       "      <th>1</th>\n",
       "      <td>0.254092</td>\n",
       "      <td>0.793814</td>\n",
       "      <td>0.013134</td>\n",
       "      <td>0.280139</td>\n",
       "      <td>0.133119</td>\n",
       "    </tr>\n",
       "    <tr>\n",
       "      <th>0</th>\n",
       "      <td>0.277793</td>\n",
       "      <td>0.504502</td>\n",
       "      <td>0.476466</td>\n",
       "      <td>0.097938</td>\n",
       "      <td>0.345402</td>\n",
       "    </tr>\n",
       "    <tr>\n",
       "      <th>3</th>\n",
       "      <td>0.015123</td>\n",
       "      <td>0.988333</td>\n",
       "      <td>0.792580</td>\n",
       "      <td>0.071037</td>\n",
       "      <td>0.398478</td>\n",
       "    </tr>\n",
       "    <tr>\n",
       "      <th>2</th>\n",
       "      <td>0.550324</td>\n",
       "      <td>0.871230</td>\n",
       "      <td>0.410856</td>\n",
       "      <td>0.486428</td>\n",
       "      <td>0.448979</td>\n",
       "    </tr>\n",
       "  </tbody>\n",
       "</table>\n",
       "</div>"
      ],
      "text/plain": [
       "          0         1         2         3         4\n",
       "1  0.254092  0.793814  0.013134  0.280139  0.133119\n",
       "0  0.277793  0.504502  0.476466  0.097938  0.345402\n",
       "3  0.015123  0.988333  0.792580  0.071037  0.398478\n",
       "2  0.550324  0.871230  0.410856  0.486428  0.448979"
      ]
     },
     "execution_count": 16,
     "metadata": {},
     "output_type": "execute_result"
    }
   ],
   "source": [
    "df.sort_values(by=4) # 按照第四列排序"
   ]
  },
  {
   "cell_type": "code",
   "execution_count": 23,
   "metadata": {},
   "outputs": [
    {
     "data": {
      "text/html": [
       "<div>\n",
       "<style scoped>\n",
       "    .dataframe tbody tr th:only-of-type {\n",
       "        vertical-align: middle;\n",
       "    }\n",
       "\n",
       "    .dataframe tbody tr th {\n",
       "        vertical-align: top;\n",
       "    }\n",
       "\n",
       "    .dataframe thead th {\n",
       "        text-align: right;\n",
       "    }\n",
       "</style>\n",
       "<table border=\"1\" class=\"dataframe\">\n",
       "  <thead>\n",
       "    <tr style=\"text-align: right;\">\n",
       "      <th></th>\n",
       "      <th>2</th>\n",
       "      <th>4</th>\n",
       "      <th>0</th>\n",
       "      <th>3</th>\n",
       "      <th>1</th>\n",
       "    </tr>\n",
       "  </thead>\n",
       "  <tbody>\n",
       "    <tr>\n",
       "      <th>0</th>\n",
       "      <td>0.476466</td>\n",
       "      <td>0.345402</td>\n",
       "      <td>0.277793</td>\n",
       "      <td>0.097938</td>\n",
       "      <td>0.504502</td>\n",
       "    </tr>\n",
       "    <tr>\n",
       "      <th>1</th>\n",
       "      <td>0.013134</td>\n",
       "      <td>0.133119</td>\n",
       "      <td>0.254092</td>\n",
       "      <td>0.280139</td>\n",
       "      <td>0.793814</td>\n",
       "    </tr>\n",
       "    <tr>\n",
       "      <th>2</th>\n",
       "      <td>0.410856</td>\n",
       "      <td>0.448979</td>\n",
       "      <td>0.550324</td>\n",
       "      <td>0.486428</td>\n",
       "      <td>0.871230</td>\n",
       "    </tr>\n",
       "    <tr>\n",
       "      <th>3</th>\n",
       "      <td>0.792580</td>\n",
       "      <td>0.398478</td>\n",
       "      <td>0.015123</td>\n",
       "      <td>0.071037</td>\n",
       "      <td>0.988333</td>\n",
       "    </tr>\n",
       "  </tbody>\n",
       "</table>\n",
       "</div>"
      ],
      "text/plain": [
       "          2         4         0         3         1\n",
       "0  0.476466  0.345402  0.277793  0.097938  0.504502\n",
       "1  0.013134  0.133119  0.254092  0.280139  0.793814\n",
       "2  0.410856  0.448979  0.550324  0.486428  0.871230\n",
       "3  0.792580  0.398478  0.015123  0.071037  0.988333"
      ]
     },
     "execution_count": 23,
     "metadata": {},
     "output_type": "execute_result"
    }
   ],
   "source": [
    "df.sort_values(axis=1, by=1) # 按照第一行排序"
   ]
  },
  {
   "cell_type": "code",
   "execution_count": 24,
   "metadata": {},
   "outputs": [
    {
     "data": {
      "text/html": [
       "<div>\n",
       "<style scoped>\n",
       "    .dataframe tbody tr th:only-of-type {\n",
       "        vertical-align: middle;\n",
       "    }\n",
       "\n",
       "    .dataframe tbody tr th {\n",
       "        vertical-align: top;\n",
       "    }\n",
       "\n",
       "    .dataframe thead th {\n",
       "        text-align: right;\n",
       "    }\n",
       "</style>\n",
       "<table border=\"1\" class=\"dataframe\">\n",
       "  <thead>\n",
       "    <tr style=\"text-align: right;\">\n",
       "      <th></th>\n",
       "      <th>0</th>\n",
       "      <th>1</th>\n",
       "      <th>2</th>\n",
       "      <th>3</th>\n",
       "      <th>4</th>\n",
       "    </tr>\n",
       "  </thead>\n",
       "  <tbody>\n",
       "    <tr>\n",
       "      <th>0</th>\n",
       "      <td>0.277793</td>\n",
       "      <td>0.504502</td>\n",
       "      <td>0.476466</td>\n",
       "      <td>0.097938</td>\n",
       "      <td>0.345402</td>\n",
       "    </tr>\n",
       "    <tr>\n",
       "      <th>1</th>\n",
       "      <td>0.254092</td>\n",
       "      <td>0.793814</td>\n",
       "      <td>0.013134</td>\n",
       "      <td>0.280139</td>\n",
       "      <td>0.133119</td>\n",
       "    </tr>\n",
       "    <tr>\n",
       "      <th>2</th>\n",
       "      <td>0.550324</td>\n",
       "      <td>0.871230</td>\n",
       "      <td>0.410856</td>\n",
       "      <td>0.486428</td>\n",
       "      <td>0.448979</td>\n",
       "    </tr>\n",
       "    <tr>\n",
       "      <th>3</th>\n",
       "      <td>0.015123</td>\n",
       "      <td>0.988333</td>\n",
       "      <td>0.792580</td>\n",
       "      <td>0.071037</td>\n",
       "      <td>0.398478</td>\n",
       "    </tr>\n",
       "  </tbody>\n",
       "</table>\n",
       "</div>"
      ],
      "text/plain": [
       "          0         1         2         3         4\n",
       "0  0.277793  0.504502  0.476466  0.097938  0.345402\n",
       "1  0.254092  0.793814  0.013134  0.280139  0.133119\n",
       "2  0.550324  0.871230  0.410856  0.486428  0.448979\n",
       "3  0.015123  0.988333  0.792580  0.071037  0.398478"
      ]
     },
     "execution_count": 24,
     "metadata": {},
     "output_type": "execute_result"
    }
   ],
   "source": [
    "df.sort_index()"
   ]
  },
  {
   "cell_type": "code",
   "execution_count": 25,
   "metadata": {},
   "outputs": [],
   "source": [
    "df1 = DataFrame(np.random.rand(20).reshape(4,5), index=[3,2,1,4])"
   ]
  },
  {
   "cell_type": "code",
   "execution_count": 26,
   "metadata": {},
   "outputs": [
    {
     "data": {
      "text/html": [
       "<div>\n",
       "<style scoped>\n",
       "    .dataframe tbody tr th:only-of-type {\n",
       "        vertical-align: middle;\n",
       "    }\n",
       "\n",
       "    .dataframe tbody tr th {\n",
       "        vertical-align: top;\n",
       "    }\n",
       "\n",
       "    .dataframe thead th {\n",
       "        text-align: right;\n",
       "    }\n",
       "</style>\n",
       "<table border=\"1\" class=\"dataframe\">\n",
       "  <thead>\n",
       "    <tr style=\"text-align: right;\">\n",
       "      <th></th>\n",
       "      <th>0</th>\n",
       "      <th>1</th>\n",
       "      <th>2</th>\n",
       "      <th>3</th>\n",
       "      <th>4</th>\n",
       "    </tr>\n",
       "  </thead>\n",
       "  <tbody>\n",
       "    <tr>\n",
       "      <th>3</th>\n",
       "      <td>0.482935</td>\n",
       "      <td>0.147994</td>\n",
       "      <td>0.709032</td>\n",
       "      <td>0.469805</td>\n",
       "      <td>0.137343</td>\n",
       "    </tr>\n",
       "    <tr>\n",
       "      <th>2</th>\n",
       "      <td>0.293992</td>\n",
       "      <td>0.091320</td>\n",
       "      <td>0.185311</td>\n",
       "      <td>0.679298</td>\n",
       "      <td>0.119853</td>\n",
       "    </tr>\n",
       "    <tr>\n",
       "      <th>1</th>\n",
       "      <td>0.098539</td>\n",
       "      <td>0.164543</td>\n",
       "      <td>0.634605</td>\n",
       "      <td>0.901976</td>\n",
       "      <td>0.972805</td>\n",
       "    </tr>\n",
       "    <tr>\n",
       "      <th>4</th>\n",
       "      <td>0.513919</td>\n",
       "      <td>0.031931</td>\n",
       "      <td>0.629588</td>\n",
       "      <td>0.484277</td>\n",
       "      <td>0.392454</td>\n",
       "    </tr>\n",
       "  </tbody>\n",
       "</table>\n",
       "</div>"
      ],
      "text/plain": [
       "          0         1         2         3         4\n",
       "3  0.482935  0.147994  0.709032  0.469805  0.137343\n",
       "2  0.293992  0.091320  0.185311  0.679298  0.119853\n",
       "1  0.098539  0.164543  0.634605  0.901976  0.972805\n",
       "4  0.513919  0.031931  0.629588  0.484277  0.392454"
      ]
     },
     "execution_count": 26,
     "metadata": {},
     "output_type": "execute_result"
    }
   ],
   "source": [
    "df1"
   ]
  },
  {
   "cell_type": "code",
   "execution_count": 27,
   "metadata": {},
   "outputs": [
    {
     "data": {
      "text/html": [
       "<div>\n",
       "<style scoped>\n",
       "    .dataframe tbody tr th:only-of-type {\n",
       "        vertical-align: middle;\n",
       "    }\n",
       "\n",
       "    .dataframe tbody tr th {\n",
       "        vertical-align: top;\n",
       "    }\n",
       "\n",
       "    .dataframe thead th {\n",
       "        text-align: right;\n",
       "    }\n",
       "</style>\n",
       "<table border=\"1\" class=\"dataframe\">\n",
       "  <thead>\n",
       "    <tr style=\"text-align: right;\">\n",
       "      <th></th>\n",
       "      <th>0</th>\n",
       "      <th>1</th>\n",
       "      <th>2</th>\n",
       "      <th>3</th>\n",
       "      <th>4</th>\n",
       "    </tr>\n",
       "  </thead>\n",
       "  <tbody>\n",
       "    <tr>\n",
       "      <th>1</th>\n",
       "      <td>0.098539</td>\n",
       "      <td>0.164543</td>\n",
       "      <td>0.634605</td>\n",
       "      <td>0.901976</td>\n",
       "      <td>0.972805</td>\n",
       "    </tr>\n",
       "    <tr>\n",
       "      <th>2</th>\n",
       "      <td>0.293992</td>\n",
       "      <td>0.091320</td>\n",
       "      <td>0.185311</td>\n",
       "      <td>0.679298</td>\n",
       "      <td>0.119853</td>\n",
       "    </tr>\n",
       "    <tr>\n",
       "      <th>3</th>\n",
       "      <td>0.482935</td>\n",
       "      <td>0.147994</td>\n",
       "      <td>0.709032</td>\n",
       "      <td>0.469805</td>\n",
       "      <td>0.137343</td>\n",
       "    </tr>\n",
       "    <tr>\n",
       "      <th>4</th>\n",
       "      <td>0.513919</td>\n",
       "      <td>0.031931</td>\n",
       "      <td>0.629588</td>\n",
       "      <td>0.484277</td>\n",
       "      <td>0.392454</td>\n",
       "    </tr>\n",
       "  </tbody>\n",
       "</table>\n",
       "</div>"
      ],
      "text/plain": [
       "          0         1         2         3         4\n",
       "1  0.098539  0.164543  0.634605  0.901976  0.972805\n",
       "2  0.293992  0.091320  0.185311  0.679298  0.119853\n",
       "3  0.482935  0.147994  0.709032  0.469805  0.137343\n",
       "4  0.513919  0.031931  0.629588  0.484277  0.392454"
      ]
     },
     "execution_count": 27,
     "metadata": {},
     "output_type": "execute_result"
    }
   ],
   "source": [
    "df1.sort_index()"
   ]
  },
  {
   "cell_type": "code",
   "execution_count": 29,
   "metadata": {},
   "outputs": [
    {
     "data": {
      "text/plain": [
       "0    0.513919\n",
       "1    0.164543\n",
       "2    0.709032\n",
       "3    0.901976\n",
       "4    0.972805\n",
       "dtype: float64"
      ]
     },
     "execution_count": 29,
     "metadata": {},
     "output_type": "execute_result"
    }
   ],
   "source": [
    "df1.max() # 每列的最大值"
   ]
  },
  {
   "cell_type": "code",
   "execution_count": 33,
   "metadata": {},
   "outputs": [
    {
     "data": {
      "text/plain": [
       "3    0.709032\n",
       "2    0.679298\n",
       "1    0.972805\n",
       "4    0.629588\n",
       "dtype: float64"
      ]
     },
     "execution_count": 33,
     "metadata": {},
     "output_type": "execute_result"
    }
   ],
   "source": [
    "df1.max(axis=1) # 每行的最大值"
   ]
  },
  {
   "cell_type": "code",
   "execution_count": 30,
   "metadata": {},
   "outputs": [
    {
     "data": {
      "text/plain": [
       "0    0.347346\n",
       "1    0.108947\n",
       "2    0.539634\n",
       "3    0.633839\n",
       "4    0.405614\n",
       "dtype: float64"
      ]
     },
     "execution_count": 30,
     "metadata": {},
     "output_type": "execute_result"
    }
   ],
   "source": [
    "df1.mean() #每列平均值"
   ]
  },
  {
   "cell_type": "code",
   "execution_count": 31,
   "metadata": {},
   "outputs": [
    {
     "data": {
      "text/html": [
       "<div>\n",
       "<style scoped>\n",
       "    .dataframe tbody tr th:only-of-type {\n",
       "        vertical-align: middle;\n",
       "    }\n",
       "\n",
       "    .dataframe tbody tr th {\n",
       "        vertical-align: top;\n",
       "    }\n",
       "\n",
       "    .dataframe thead th {\n",
       "        text-align: right;\n",
       "    }\n",
       "</style>\n",
       "<table border=\"1\" class=\"dataframe\">\n",
       "  <thead>\n",
       "    <tr style=\"text-align: right;\">\n",
       "      <th></th>\n",
       "      <th>0</th>\n",
       "      <th>1</th>\n",
       "      <th>2</th>\n",
       "      <th>3</th>\n",
       "      <th>4</th>\n",
       "    </tr>\n",
       "  </thead>\n",
       "  <tbody>\n",
       "    <tr>\n",
       "      <th>0</th>\n",
       "      <td>0.277793</td>\n",
       "      <td>0.504502</td>\n",
       "      <td>0.476466</td>\n",
       "      <td>0.097938</td>\n",
       "      <td>0.345402</td>\n",
       "    </tr>\n",
       "    <tr>\n",
       "      <th>1</th>\n",
       "      <td>0.254092</td>\n",
       "      <td>0.793814</td>\n",
       "      <td>0.013134</td>\n",
       "      <td>0.280139</td>\n",
       "      <td>0.133119</td>\n",
       "    </tr>\n",
       "    <tr>\n",
       "      <th>2</th>\n",
       "      <td>0.550324</td>\n",
       "      <td>0.871230</td>\n",
       "      <td>0.410856</td>\n",
       "      <td>0.486428</td>\n",
       "      <td>0.448979</td>\n",
       "    </tr>\n",
       "    <tr>\n",
       "      <th>3</th>\n",
       "      <td>0.015123</td>\n",
       "      <td>0.988333</td>\n",
       "      <td>0.792580</td>\n",
       "      <td>0.071037</td>\n",
       "      <td>0.398478</td>\n",
       "    </tr>\n",
       "  </tbody>\n",
       "</table>\n",
       "</div>"
      ],
      "text/plain": [
       "          0         1         2         3         4\n",
       "0  0.277793  0.504502  0.476466  0.097938  0.345402\n",
       "1  0.254092  0.793814  0.013134  0.280139  0.133119\n",
       "2  0.550324  0.871230  0.410856  0.486428  0.448979\n",
       "3  0.015123  0.988333  0.792580  0.071037  0.398478"
      ]
     },
     "execution_count": 31,
     "metadata": {},
     "output_type": "execute_result"
    }
   ],
   "source": [
    "df"
   ]
  },
  {
   "cell_type": "code",
   "execution_count": 32,
   "metadata": {},
   "outputs": [
    {
     "data": {
      "text/html": [
       "<div>\n",
       "<style scoped>\n",
       "    .dataframe tbody tr th:only-of-type {\n",
       "        vertical-align: middle;\n",
       "    }\n",
       "\n",
       "    .dataframe tbody tr th {\n",
       "        vertical-align: top;\n",
       "    }\n",
       "\n",
       "    .dataframe thead th {\n",
       "        text-align: right;\n",
       "    }\n",
       "</style>\n",
       "<table border=\"1\" class=\"dataframe\">\n",
       "  <thead>\n",
       "    <tr style=\"text-align: right;\">\n",
       "      <th></th>\n",
       "      <th>0</th>\n",
       "      <th>1</th>\n",
       "      <th>2</th>\n",
       "      <th>3</th>\n",
       "      <th>4</th>\n",
       "    </tr>\n",
       "  </thead>\n",
       "  <tbody>\n",
       "    <tr>\n",
       "      <th>count</th>\n",
       "      <td>4.000000</td>\n",
       "      <td>4.000000</td>\n",
       "      <td>4.000000</td>\n",
       "      <td>4.000000</td>\n",
       "      <td>4.000000</td>\n",
       "    </tr>\n",
       "    <tr>\n",
       "      <th>mean</th>\n",
       "      <td>0.274333</td>\n",
       "      <td>0.789470</td>\n",
       "      <td>0.423259</td>\n",
       "      <td>0.233886</td>\n",
       "      <td>0.331495</td>\n",
       "    </tr>\n",
       "    <tr>\n",
       "      <th>std</th>\n",
       "      <td>0.218923</td>\n",
       "      <td>0.206120</td>\n",
       "      <td>0.320201</td>\n",
       "      <td>0.192283</td>\n",
       "      <td>0.138848</td>\n",
       "    </tr>\n",
       "    <tr>\n",
       "      <th>min</th>\n",
       "      <td>0.015123</td>\n",
       "      <td>0.504502</td>\n",
       "      <td>0.013134</td>\n",
       "      <td>0.071037</td>\n",
       "      <td>0.133119</td>\n",
       "    </tr>\n",
       "    <tr>\n",
       "      <th>25%</th>\n",
       "      <td>0.194350</td>\n",
       "      <td>0.721486</td>\n",
       "      <td>0.311425</td>\n",
       "      <td>0.091213</td>\n",
       "      <td>0.292331</td>\n",
       "    </tr>\n",
       "    <tr>\n",
       "      <th>50%</th>\n",
       "      <td>0.265942</td>\n",
       "      <td>0.832522</td>\n",
       "      <td>0.443661</td>\n",
       "      <td>0.189039</td>\n",
       "      <td>0.371940</td>\n",
       "    </tr>\n",
       "    <tr>\n",
       "      <th>75%</th>\n",
       "      <td>0.345925</td>\n",
       "      <td>0.900506</td>\n",
       "      <td>0.555495</td>\n",
       "      <td>0.331711</td>\n",
       "      <td>0.411104</td>\n",
       "    </tr>\n",
       "    <tr>\n",
       "      <th>max</th>\n",
       "      <td>0.550324</td>\n",
       "      <td>0.988333</td>\n",
       "      <td>0.792580</td>\n",
       "      <td>0.486428</td>\n",
       "      <td>0.448979</td>\n",
       "    </tr>\n",
       "  </tbody>\n",
       "</table>\n",
       "</div>"
      ],
      "text/plain": [
       "              0         1         2         3         4\n",
       "count  4.000000  4.000000  4.000000  4.000000  4.000000\n",
       "mean   0.274333  0.789470  0.423259  0.233886  0.331495\n",
       "std    0.218923  0.206120  0.320201  0.192283  0.138848\n",
       "min    0.015123  0.504502  0.013134  0.071037  0.133119\n",
       "25%    0.194350  0.721486  0.311425  0.091213  0.292331\n",
       "50%    0.265942  0.832522  0.443661  0.189039  0.371940\n",
       "75%    0.345925  0.900506  0.555495  0.331711  0.411104\n",
       "max    0.550324  0.988333  0.792580  0.486428  0.448979"
      ]
     },
     "execution_count": 32,
     "metadata": {},
     "output_type": "execute_result"
    }
   ],
   "source": [
    "df.describe()"
   ]
  },
  {
   "cell_type": "code",
   "execution_count": null,
   "metadata": {},
   "outputs": [],
   "source": []
  }
 ],
 "metadata": {
  "kernelspec": {
   "display_name": "Python 3",
   "language": "python",
   "name": "python3"
  },
  "language_info": {
   "codemirror_mode": {
    "name": "ipython",
    "version": 3
   },
   "file_extension": ".py",
   "mimetype": "text/x-python",
   "name": "python",
   "nbconvert_exporter": "python",
   "pygments_lexer": "ipython3",
   "version": "3.7.3"
  }
 },
 "nbformat": 4,
 "nbformat_minor": 2
}
