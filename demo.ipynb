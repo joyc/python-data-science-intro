{
 "cells": [
  {
   "cell_type": "code",
   "execution_count": 2,
   "metadata": {},
   "outputs": [
    {
     "name": "stdout",
     "output_type": "stream",
     "text": [
      "hello jupyter\n",
      "hello world\n"
     ]
    }
   ],
   "source": [
    "print('hello jupyter')\n",
    "print('hello world')"
   ]
  },
  {
   "cell_type": "code",
   "execution_count": 3,
   "metadata": {},
   "outputs": [
    {
     "name": "stdout",
     "output_type": "stream",
     "text": [
      "1\n"
     ]
    }
   ],
   "source": [
    "a = 1\n",
    "print(a)"
   ]
  },
  {
   "cell_type": "code",
   "execution_count": 6,
   "metadata": {},
   "outputs": [
    {
     "name": "stdout",
     "output_type": "stream",
     "text": [
      "1\n"
     ]
    }
   ],
   "source": [
    "print(a)"
   ]
  },
  {
   "cell_type": "code",
   "execution_count": null,
   "metadata": {},
   "outputs": [],
   "source": [
    "5个数据分析库\n",
    "1. NumPy\n",
    "2. Scipy\n",
    "    傅里叶变换，线性代数，科学计算\n",
    "3. Pandas\n",
    "    结构化数据分析利器\n",
    "    高级的数据结构\n",
    "4. Matplotlib\n",
    "    2D绘图套件 散点，曲线\n",
    "    Matplot3D\n",
    "5. Scikit-learn\n",
    "    机器学习算法：聚类，回归\n",
    "    \n",
    "    \n",
    "矩阵：\n",
    "    矩形的数组，即二维数组，其中向量和标量都是矩形的特例\n",
    "    向量：指1xN或Nx1的矩阵\n",
    "    标量：1x1的矩阵\n",
    "    数组：N维的数组，是矩阵的延伸\n",
    "    特殊矩阵：\n",
    "        全0全1矩阵\n",
    "        单位矩阵：对角线都是1 \n",
    "    线性代数PDF：bs.szu.edu.cn/sljr/Up/day_110824/201108240409437707.pdf\n",
    "    \n"
   ]
  }
 ],
 "metadata": {
  "kernelspec": {
   "display_name": "Python 3",
   "language": "python",
   "name": "python3"
  },
  "language_info": {
   "codemirror_mode": {
    "name": "ipython",
    "version": 3
   },
   "file_extension": ".py",
   "mimetype": "text/x-python",
   "name": "python",
   "nbconvert_exporter": "python",
   "pygments_lexer": "ipython3",
   "version": "3.7.3"
  }
 },
 "nbformat": 4,
 "nbformat_minor": 2
}
